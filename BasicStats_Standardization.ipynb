{
 "cells": [
  {
   "cell_type": "code",
   "execution_count": null,
   "metadata": {
    "id": "oPe0afaCAsP0"
   },
   "outputs": [],
   "source": [
    "from scipy import stats"
   ]
  },
  {
   "cell_type": "code",
   "execution_count": null,
   "metadata": {
    "colab": {
     "base_uri": "https://localhost:8080/"
    },
    "executionInfo": {
     "elapsed": 1082,
     "status": "ok",
     "timestamp": 1613901305642,
     "user": {
      "displayName": "Shriniwas Deshmukh",
      "photoUrl": "https://lh3.googleusercontent.com/a-/AOh14Gi_zx-XaLBY-qShxefi65uWi5ZONO8TK6oRKJvPyg=s64",
      "userId": "07440150473249259372"
     },
     "user_tz": -330
    },
    "id": "Sdi-grtVAsP9",
    "outputId": "f9faad53-efb0-4401-e764-8433a1857047"
   },
   "outputs": [],
   "source": [
    "stats.norm.cdf(680,711,29)"
   ]
  },
  {
   "cell_type": "code",
   "execution_count": 2,
   "metadata": {
    "id": "1AxU2LwYAsP_"
   },
   "outputs": [],
   "source": [
    "import pandas as pd\n",
    "import matplotlib.pyplot as plt\n",
    "import seaborn as sns\n",
    "from sklearn import preprocessing"
   ]
  },
  {
   "cell_type": "code",
   "execution_count": 3,
   "metadata": {
    "colab": {
     "base_uri": "https://localhost:8080/",
     "height": 419
    },
    "executionInfo": {
     "elapsed": 1327,
     "status": "ok",
     "timestamp": 1613902201405,
     "user": {
      "displayName": "Shriniwas Deshmukh",
      "photoUrl": "https://lh3.googleusercontent.com/a-/AOh14Gi_zx-XaLBY-qShxefi65uWi5ZONO8TK6oRKJvPyg=s64",
      "userId": "07440150473249259372"
     },
     "user_tz": -330
    },
    "id": "Yoef5UexAsQA",
    "outputId": "87d7330e-b3cc-4de0-e7ee-1832ebd676aa"
   },
   "outputs": [
    {
     "data": {
      "text/html": [
       "<div>\n",
       "<style scoped>\n",
       "    .dataframe tbody tr th:only-of-type {\n",
       "        vertical-align: middle;\n",
       "    }\n",
       "\n",
       "    .dataframe tbody tr th {\n",
       "        vertical-align: top;\n",
       "    }\n",
       "\n",
       "    .dataframe thead th {\n",
       "        text-align: right;\n",
       "    }\n",
       "</style>\n",
       "<table border=\"1\" class=\"dataframe\">\n",
       "  <thead>\n",
       "    <tr style=\"text-align: right;\">\n",
       "      <th></th>\n",
       "      <th>Normal</th>\n",
       "    </tr>\n",
       "  </thead>\n",
       "  <tbody>\n",
       "    <tr>\n",
       "      <th>0</th>\n",
       "      <td>567.45</td>\n",
       "    </tr>\n",
       "    <tr>\n",
       "      <th>1</th>\n",
       "      <td>572.45</td>\n",
       "    </tr>\n",
       "    <tr>\n",
       "      <th>2</th>\n",
       "      <td>572.45</td>\n",
       "    </tr>\n",
       "    <tr>\n",
       "      <th>3</th>\n",
       "      <td>589.12</td>\n",
       "    </tr>\n",
       "    <tr>\n",
       "      <th>4</th>\n",
       "      <td>613.87</td>\n",
       "    </tr>\n",
       "    <tr>\n",
       "      <th>...</th>\n",
       "      <td>...</td>\n",
       "    </tr>\n",
       "    <tr>\n",
       "      <th>75</th>\n",
       "      <td>842.87</td>\n",
       "    </tr>\n",
       "    <tr>\n",
       "      <th>76</th>\n",
       "      <td>849.62</td>\n",
       "    </tr>\n",
       "    <tr>\n",
       "      <th>77</th>\n",
       "      <td>874.70</td>\n",
       "    </tr>\n",
       "    <tr>\n",
       "      <th>78</th>\n",
       "      <td>878.78</td>\n",
       "    </tr>\n",
       "    <tr>\n",
       "      <th>79</th>\n",
       "      <td>897.45</td>\n",
       "    </tr>\n",
       "  </tbody>\n",
       "</table>\n",
       "<p>80 rows × 1 columns</p>\n",
       "</div>"
      ],
      "text/plain": [
       "    Normal\n",
       "0   567.45\n",
       "1   572.45\n",
       "2   572.45\n",
       "3   589.12\n",
       "4   613.87\n",
       "..     ...\n",
       "75  842.87\n",
       "76  849.62\n",
       "77  874.70\n",
       "78  878.78\n",
       "79  897.45\n",
       "\n",
       "[80 rows x 1 columns]"
      ]
     },
     "execution_count": 3,
     "metadata": {},
     "output_type": "execute_result"
    }
   ],
   "source": [
    "#no header for the column\n",
    "ndist = pd.read_csv('zdist.csv',header=None)\n",
    "#renaming the column to 'Normal '\n",
    "ndist.rename({0:'Normal'}, axis = 1, inplace=True)\n",
    "ndist"
   ]
  },
  {
   "cell_type": "code",
   "execution_count": 4,
   "metadata": {
    "id": "nrQyLvEOAsQA"
   },
   "outputs": [],
   "source": [
    "sns.set_palette('pastel')"
   ]
  },
  {
   "cell_type": "code",
   "execution_count": 5,
   "metadata": {
    "colab": {
     "base_uri": "https://localhost:8080/",
     "height": 339
    },
    "executionInfo": {
     "elapsed": 1349,
     "status": "ok",
     "timestamp": 1613902241141,
     "user": {
      "displayName": "Shriniwas Deshmukh",
      "photoUrl": "https://lh3.googleusercontent.com/a-/AOh14Gi_zx-XaLBY-qShxefi65uWi5ZONO8TK6oRKJvPyg=s64",
      "userId": "07440150473249259372"
     },
     "user_tz": -330
    },
    "id": "3zZo0IVZAsQB",
    "outputId": "cbe03370-c052-4e6b-fa3b-2ab9c1a3ebbb"
   },
   "outputs": [
    {
     "data": {
      "text/plain": [
       "<matplotlib.axes._subplots.AxesSubplot at 0x24d4c473790>"
      ]
     },
     "execution_count": 5,
     "metadata": {},
     "output_type": "execute_result"
    },
    {
     "data": {
      "image/png": "[encoded data removed]",
      "text/plain": [
       "<Figure size 432x288 with 1 Axes>"
      ]
     },
     "metadata": {
      "needs_background": "light"
     },
     "output_type": "display_data"
    }
   ],
   "source": [
    "# here we will get the a original distribution for the table above\n",
    "sns.distplot(ndist)"
   ]
  },
  {
   "cell_type": "code",
   "execution_count": 6,
   "metadata": {
    "colab": {
     "base_uri": "https://localhost:8080/"
    },
    "executionInfo": {
     "elapsed": 1350,
     "status": "ok",
     "timestamp": 1613902408128,
     "user": {
      "displayName": "Shriniwas Deshmukh",
      "photoUrl": "https://lh3.googleusercontent.com/a-/AOh14Gi_zx-XaLBY-qShxefi65uWi5ZONO8TK6oRKJvPyg=s64",
      "userId": "07440150473249259372"
     },
     "user_tz": -330
    },
    "id": "sfOco-vTAsQC",
    "outputId": "49910619-7913-430c-b2c3-9731033ba7cd"
   },
   "outputs": [
    {
     "data": {
      "text/plain": [
       "numpy.ndarray"
      ]
     },
     "execution_count": 6,
     "metadata": {},
     "output_type": "execute_result"
    }
   ],
   "source": [
    "#to standardize the datasize\n",
    "zscaler = preprocessing.StandardScaler()\n",
    "#standardize data is added in zdist\n",
    "zdist = zscaler.fit_transform(ndist)\n",
    "type(zdist)"
   ]
  },
  {
   "cell_type": "code",
   "execution_count": null,
   "metadata": {
    "id": "IgkHDLj9nh0s"
   },
   "outputs": [],
   "source": []
  },
  {
   "cell_type": "code",
   "execution_count": 8,
   "metadata": {
    "id": "KXcDkyLXAsQD"
   },
   "outputs": [],
   "source": [
    "#added a new column called Z-score in ndist and whatever calculated in added in zdist\n",
    "ndist['Z-Scores'] = zdist"
   ]
  },
  {
   "cell_type": "code",
   "execution_count": 9,
   "metadata": {
    "colab": {
     "base_uri": "https://localhost:8080/",
     "height": 419
    },
    "executionInfo": {
     "elapsed": 1925,
     "status": "ok",
     "timestamp": 1613902480846,
     "user": {
      "displayName": "Shriniwas Deshmukh",
      "photoUrl": "https://lh3.googleusercontent.com/a-/AOh14Gi_zx-XaLBY-qShxefi65uWi5ZONO8TK6oRKJvPyg=s64",
      "userId": "07440150473249259372"
     },
     "user_tz": -330
    },
    "id": "6CGQJfZPAsQE",
    "outputId": "f3beadb0-c99b-456d-cf6f-0be89a6e56bb"
   },
   "outputs": [
    {
     "data": {
      "text/html": [
       "<div>\n",
       "<style scoped>\n",
       "    .dataframe tbody tr th:only-of-type {\n",
       "        vertical-align: middle;\n",
       "    }\n",
       "\n",
       "    .dataframe tbody tr th {\n",
       "        vertical-align: top;\n",
       "    }\n",
       "\n",
       "    .dataframe thead th {\n",
       "        text-align: right;\n",
       "    }\n",
       "</style>\n",
       "<table border=\"1\" class=\"dataframe\">\n",
       "  <thead>\n",
       "    <tr style=\"text-align: right;\">\n",
       "      <th></th>\n",
       "      <th>Normal</th>\n",
       "      <th>Z-Scores</th>\n",
       "    </tr>\n",
       "  </thead>\n",
       "  <tbody>\n",
       "    <tr>\n",
       "      <th>0</th>\n",
       "      <td>567.45</td>\n",
       "      <td>-2.389144</td>\n",
       "    </tr>\n",
       "    <tr>\n",
       "      <th>1</th>\n",
       "      <td>572.45</td>\n",
       "      <td>-2.321107</td>\n",
       "    </tr>\n",
       "    <tr>\n",
       "      <th>2</th>\n",
       "      <td>572.45</td>\n",
       "      <td>-2.321107</td>\n",
       "    </tr>\n",
       "    <tr>\n",
       "      <th>3</th>\n",
       "      <td>589.12</td>\n",
       "      <td>-2.094272</td>\n",
       "    </tr>\n",
       "    <tr>\n",
       "      <th>4</th>\n",
       "      <td>613.87</td>\n",
       "      <td>-1.757489</td>\n",
       "    </tr>\n",
       "    <tr>\n",
       "      <th>...</th>\n",
       "      <td>...</td>\n",
       "      <td>...</td>\n",
       "    </tr>\n",
       "    <tr>\n",
       "      <th>75</th>\n",
       "      <td>842.87</td>\n",
       "      <td>1.358602</td>\n",
       "    </tr>\n",
       "    <tr>\n",
       "      <th>76</th>\n",
       "      <td>849.62</td>\n",
       "      <td>1.450452</td>\n",
       "    </tr>\n",
       "    <tr>\n",
       "      <th>77</th>\n",
       "      <td>874.70</td>\n",
       "      <td>1.791725</td>\n",
       "    </tr>\n",
       "    <tr>\n",
       "      <th>78</th>\n",
       "      <td>878.78</td>\n",
       "      <td>1.847243</td>\n",
       "    </tr>\n",
       "    <tr>\n",
       "      <th>79</th>\n",
       "      <td>897.45</td>\n",
       "      <td>2.101293</td>\n",
       "    </tr>\n",
       "  </tbody>\n",
       "</table>\n",
       "<p>80 rows × 2 columns</p>\n",
       "</div>"
      ],
      "text/plain": [
       "    Normal  Z-Scores\n",
       "0   567.45 -2.389144\n",
       "1   572.45 -2.321107\n",
       "2   572.45 -2.321107\n",
       "3   589.12 -2.094272\n",
       "4   613.87 -1.757489\n",
       "..     ...       ...\n",
       "75  842.87  1.358602\n",
       "76  849.62  1.450452\n",
       "77  874.70  1.791725\n",
       "78  878.78  1.847243\n",
       "79  897.45  2.101293\n",
       "\n",
       "[80 rows x 2 columns]"
      ]
     },
     "execution_count": 9,
     "metadata": {},
     "output_type": "execute_result"
    }
   ],
   "source": [
    "ndist"
   ]
  },
  {
   "cell_type": "code",
   "execution_count": 10,
   "metadata": {
    "colab": {
     "base_uri": "https://localhost:8080/"
    },
    "executionInfo": {
     "elapsed": 1117,
     "status": "ok",
     "timestamp": 1613902490711,
     "user": {
      "displayName": "Shriniwas Deshmukh",
      "photoUrl": "https://lh3.googleusercontent.com/a-/AOh14Gi_zx-XaLBY-qShxefi65uWi5ZONO8TK6oRKJvPyg=s64",
      "userId": "07440150473249259372"
     },
     "user_tz": -330
    },
    "id": "2FrcgXRBAsQE",
    "outputId": "b74f0969-218c-441e-d889-16fc53b505bf"
   },
   "outputs": [
    {
     "data": {
      "text/plain": [
       "743.0269999999998"
      ]
     },
     "execution_count": 10,
     "metadata": {},
     "output_type": "execute_result"
    }
   ],
   "source": [
    "#mean value of original distribution\n",
    "ndist['Normal'].mean()"
   ]
  },
  {
   "cell_type": "code",
   "execution_count": 11,
   "metadata": {
    "colab": {
     "base_uri": "https://localhost:8080/"
    },
    "executionInfo": {
     "elapsed": 732,
     "status": "ok",
     "timestamp": 1613902492604,
     "user": {
      "displayName": "Shriniwas Deshmukh",
      "photoUrl": "https://lh3.googleusercontent.com/a-/AOh14Gi_zx-XaLBY-qShxefi65uWi5ZONO8TK6oRKJvPyg=s64",
      "userId": "07440150473249259372"
     },
     "user_tz": -330
    },
    "id": "AtRcGTBKAsQF",
    "outputId": "fc230868-3f75-4fe0-c888-59cfdae231e3"
   },
   "outputs": [
    {
     "data": {
      "text/plain": [
       "73.95317208728879"
      ]
     },
     "execution_count": 11,
     "metadata": {},
     "output_type": "execute_result"
    }
   ],
   "source": [
    "#std dev value of original distribution\n",
    "ndist['Normal'].std()"
   ]
  },
  {
   "cell_type": "code",
   "execution_count": 12,
   "metadata": {
    "colab": {
     "base_uri": "https://localhost:8080/"
    },
    "executionInfo": {
     "elapsed": 1414,
     "status": "ok",
     "timestamp": 1613902497514,
     "user": {
      "displayName": "Shriniwas Deshmukh",
      "photoUrl": "https://lh3.googleusercontent.com/a-/AOh14Gi_zx-XaLBY-qShxefi65uWi5ZONO8TK6oRKJvPyg=s64",
      "userId": "07440150473249259372"
     },
     "user_tz": -330
    },
    "id": "GNCP3nN1AsQG",
    "outputId": "7c4b1ed5-0a81-4f60-dbd9-c38796ce93aa"
   },
   "outputs": [
    {
     "data": {
      "text/plain": [
       "2.087162162162163"
      ]
     },
     "execution_count": 12,
     "metadata": {},
     "output_type": "execute_result"
    }
   ],
   "source": [
    "(897.45 - 743)/74"
   ]
  },
  {
   "cell_type": "code",
   "execution_count": 13,
   "metadata": {
    "colab": {
     "base_uri": "https://localhost:8080/",
     "height": 350
    },
    "executionInfo": {
     "elapsed": 1221,
     "status": "ok",
     "timestamp": 1613902501252,
     "user": {
      "displayName": "Shriniwas Deshmukh",
      "photoUrl": "https://lh3.googleusercontent.com/a-/AOh14Gi_zx-XaLBY-qShxefi65uWi5ZONO8TK6oRKJvPyg=s64",
      "userId": "07440150473249259372"
     },
     "user_tz": -330
    },
    "id": "OOJwWN5kAsQG",
    "outputId": "2404192d-48bd-4acf-fcb2-ea4170f8bf0b"
   },
   "outputs": [
    {
     "data": {
      "text/plain": [
       "<matplotlib.axes._subplots.AxesSubplot at 0x24d4cbfd070>"
      ]
     },
     "execution_count": 13,
     "metadata": {},
     "output_type": "execute_result"
    },
    {
     "data": {
      "image/png": "[encoded data removed]",
      "text/plain": [
       "<Figure size 432x288 with 1 Axes>"
      ]
     },
     "metadata": {
      "needs_background": "light"
     },
     "output_type": "display_data"
    }
   ],
   "source": [
    "sns.distplot(ndist['Normal'],bins=30)"
   ]
  },
  {
   "cell_type": "code",
   "execution_count": 14,
   "metadata": {
    "colab": {
     "base_uri": "https://localhost:8080/",
     "height": 350
    },
    "executionInfo": {
     "elapsed": 1430,
     "status": "ok",
     "timestamp": 1613902735557,
     "user": {
      "displayName": "Shriniwas Deshmukh",
      "photoUrl": "https://lh3.googleusercontent.com/a-/AOh14Gi_zx-XaLBY-qShxefi65uWi5ZONO8TK6oRKJvPyg=s64",
      "userId": "07440150473249259372"
     },
     "user_tz": -330
    },
    "id": "fLi-ajzhAsQG",
    "outputId": "3e2197d4-083f-472f-a8ce-5bd7043cad56"
   },
   "outputs": [
    {
     "data": {
      "text/plain": [
       "<matplotlib.axes._subplots.AxesSubplot at 0x24d4cc1f550>"
      ]
     },
     "execution_count": 14,
     "metadata": {},
     "output_type": "execute_result"
    },
    {
     "data": {
      "image/png": "[encoded data removed]",
      "text/plain": [
       "<Figure size 432x288 with 1 Axes>"
      ]
     },
     "metadata": {
      "needs_background": "light"
     },
     "output_type": "display_data"
    }
   ],
   "source": [
    "sns.distplot(ndist['Z-Scores'],bins=30)"
   ]
  },
  {
   "cell_type": "code",
   "execution_count": 15,
   "metadata": {},
   "outputs": [
    {
     "data": {
      "text/plain": [
       "<matplotlib.axes._subplots.AxesSubplot at 0x24d4cd3fc70>"
      ]
     },
     "execution_count": 15,
     "metadata": {},
     "output_type": "execute_result"
    },
    {
     "data": {
      "image/png": "[encoded data removed]",
      "text/plain": [
       "<Figure size 432x288 with 1 Axes>"
      ]
     },
     "metadata": {
      "needs_background": "light"
     },
     "output_type": "display_data"
    }
   ],
   "source": [
    "sns.distplot(ndist['Z-Scores'])"
   ]
  },
  {
   "cell_type": "code",
   "execution_count": 16,
   "metadata": {
    "colab": {
     "base_uri": "https://localhost:8080/",
     "height": 370
    },
    "executionInfo": {
     "elapsed": 2023,
     "status": "ok",
     "timestamp": 1613903698771,
     "user": {
      "displayName": "Shriniwas Deshmukh",
      "photoUrl": "https://lh3.googleusercontent.com/a-/AOh14Gi_zx-XaLBY-qShxefi65uWi5ZONO8TK6oRKJvPyg=s64",
      "userId": "07440150473249259372"
     },
     "user_tz": -330
    },
    "id": "WK-qWsF6KAVS",
    "outputId": "71f4630e-dde5-4b1b-b118-aad3be15f2f9"
   },
   "outputs": [
    {
     "data": {
      "text/plain": [
       "<matplotlib.axes._subplots.AxesSubplot at 0x24d4cdfb640>"
      ]
     },
     "execution_count": 16,
     "metadata": {},
     "output_type": "execute_result"
    },
    {
     "data": {
      "image/png": "[encoded data removed]",
      "text/plain": [
       "<Figure size 432x288 with 1 Axes>"
      ]
     },
     "metadata": {
      "needs_background": "light"
     },
     "output_type": "display_data"
    }
   ],
   "source": [
    "sns.distplot(zdist, rug=True, rug_kws={\"color\": \"b\"},\n",
    "                       kde_kws={\"color\": \"k\", \"lw\": 3, \"label\": \"KDE\"},\n",
    "                       hist_kws={\"histtype\": \"step\", \"linewidth\": 2,\n",
    "                                 \"alpha\": 1, \"color\": \"m\"})"
   ]
  },
  {
   "cell_type": "code",
   "execution_count": null,
   "metadata": {
    "id": "t1j408HJKBMv"
   },
   "outputs": [],
   "source": []
  }
 ],
 "metadata": {
  "colab": {
   "name": "Standardization.ipynb",
   "provenance": []
  },
  "kernelspec": {
   "display_name": "Python 3",
   "language": "python",
   "name": "python3"
  },
  "language_info": {
   "codemirror_mode": {
    "name": "ipython",
    "version": 3
   },
   "file_extension": ".py",
   "mimetype": "text/x-python",
   "name": "python",
   "nbconvert_exporter": "python",
   "pygments_lexer": "ipython3",
   "version": "3.8.3"
  }
 },
 "nbformat": 4,
 "nbformat_minor": 1
}
